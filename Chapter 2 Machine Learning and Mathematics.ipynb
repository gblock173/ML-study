{
 "cells": [
  {
   "cell_type": "code",
   "execution_count": 10,
   "id": "f4d90fb6",
   "metadata": {},
   "outputs": [],
   "source": [
    "import pandas as pd\n",
    "import numpy as np"
   ]
  },
  {
   "cell_type": "markdown",
   "id": "9743d51e",
   "metadata": {},
   "source": [
    "# 1\n",
    "### 행렬 A의 2A, A^t, A^-1을 쓰시오, 또한 A의 계수를 쓰시오."
   ]
  },
  {
   "cell_type": "code",
   "execution_count": 24,
   "id": "f7c64314",
   "metadata": {},
   "outputs": [],
   "source": [
    "A = pd.DataFrame([[1, -2, 3, 5], [2, 2, -1, 0], [3, 0, 1, 2], [1, 0, 2, 0]])"
   ]
  },
  {
   "cell_type": "code",
   "execution_count": 7,
   "id": "1fb51af6",
   "metadata": {},
   "outputs": [
    {
     "data": {
      "text/html": [
       "<div>\n",
       "<style scoped>\n",
       "    .dataframe tbody tr th:only-of-type {\n",
       "        vertical-align: middle;\n",
       "    }\n",
       "\n",
       "    .dataframe tbody tr th {\n",
       "        vertical-align: top;\n",
       "    }\n",
       "\n",
       "    .dataframe thead th {\n",
       "        text-align: right;\n",
       "    }\n",
       "</style>\n",
       "<table border=\"1\" class=\"dataframe\">\n",
       "  <thead>\n",
       "    <tr style=\"text-align: right;\">\n",
       "      <th></th>\n",
       "      <th>0</th>\n",
       "      <th>1</th>\n",
       "      <th>2</th>\n",
       "      <th>3</th>\n",
       "    </tr>\n",
       "  </thead>\n",
       "  <tbody>\n",
       "    <tr>\n",
       "      <th>0</th>\n",
       "      <td>1</td>\n",
       "      <td>-2</td>\n",
       "      <td>3</td>\n",
       "      <td>5</td>\n",
       "    </tr>\n",
       "    <tr>\n",
       "      <th>1</th>\n",
       "      <td>2</td>\n",
       "      <td>2</td>\n",
       "      <td>-1</td>\n",
       "      <td>0</td>\n",
       "    </tr>\n",
       "    <tr>\n",
       "      <th>2</th>\n",
       "      <td>3</td>\n",
       "      <td>0</td>\n",
       "      <td>1</td>\n",
       "      <td>2</td>\n",
       "    </tr>\n",
       "    <tr>\n",
       "      <th>3</th>\n",
       "      <td>1</td>\n",
       "      <td>0</td>\n",
       "      <td>2</td>\n",
       "      <td>0</td>\n",
       "    </tr>\n",
       "  </tbody>\n",
       "</table>\n",
       "</div>"
      ],
      "text/plain": [
       "   0  1  2  3\n",
       "0  1 -2  3  5\n",
       "1  2  2 -1  0\n",
       "2  3  0  1  2\n",
       "3  1  0  2  0"
      ]
     },
     "execution_count": 7,
     "metadata": {},
     "output_type": "execute_result"
    }
   ],
   "source": [
    "A"
   ]
  },
  {
   "cell_type": "code",
   "execution_count": 6,
   "id": "e10e3a7e",
   "metadata": {},
   "outputs": [
    {
     "data": {
      "text/html": [
       "<div>\n",
       "<style scoped>\n",
       "    .dataframe tbody tr th:only-of-type {\n",
       "        vertical-align: middle;\n",
       "    }\n",
       "\n",
       "    .dataframe tbody tr th {\n",
       "        vertical-align: top;\n",
       "    }\n",
       "\n",
       "    .dataframe thead th {\n",
       "        text-align: right;\n",
       "    }\n",
       "</style>\n",
       "<table border=\"1\" class=\"dataframe\">\n",
       "  <thead>\n",
       "    <tr style=\"text-align: right;\">\n",
       "      <th></th>\n",
       "      <th>0</th>\n",
       "      <th>1</th>\n",
       "      <th>2</th>\n",
       "      <th>3</th>\n",
       "    </tr>\n",
       "  </thead>\n",
       "  <tbody>\n",
       "    <tr>\n",
       "      <th>0</th>\n",
       "      <td>2</td>\n",
       "      <td>-4</td>\n",
       "      <td>6</td>\n",
       "      <td>10</td>\n",
       "    </tr>\n",
       "    <tr>\n",
       "      <th>1</th>\n",
       "      <td>4</td>\n",
       "      <td>4</td>\n",
       "      <td>-2</td>\n",
       "      <td>0</td>\n",
       "    </tr>\n",
       "    <tr>\n",
       "      <th>2</th>\n",
       "      <td>6</td>\n",
       "      <td>0</td>\n",
       "      <td>2</td>\n",
       "      <td>4</td>\n",
       "    </tr>\n",
       "    <tr>\n",
       "      <th>3</th>\n",
       "      <td>2</td>\n",
       "      <td>0</td>\n",
       "      <td>4</td>\n",
       "      <td>0</td>\n",
       "    </tr>\n",
       "  </tbody>\n",
       "</table>\n",
       "</div>"
      ],
      "text/plain": [
       "   0  1  2   3\n",
       "0  2 -4  6  10\n",
       "1  4  4 -2   0\n",
       "2  6  0  2   4\n",
       "3  2  0  4   0"
      ]
     },
     "execution_count": 6,
     "metadata": {},
     "output_type": "execute_result"
    }
   ],
   "source": [
    "2*A"
   ]
  },
  {
   "cell_type": "code",
   "execution_count": 8,
   "id": "df5edd5f",
   "metadata": {},
   "outputs": [
    {
     "data": {
      "text/html": [
       "<div>\n",
       "<style scoped>\n",
       "    .dataframe tbody tr th:only-of-type {\n",
       "        vertical-align: middle;\n",
       "    }\n",
       "\n",
       "    .dataframe tbody tr th {\n",
       "        vertical-align: top;\n",
       "    }\n",
       "\n",
       "    .dataframe thead th {\n",
       "        text-align: right;\n",
       "    }\n",
       "</style>\n",
       "<table border=\"1\" class=\"dataframe\">\n",
       "  <thead>\n",
       "    <tr style=\"text-align: right;\">\n",
       "      <th></th>\n",
       "      <th>0</th>\n",
       "      <th>1</th>\n",
       "      <th>2</th>\n",
       "      <th>3</th>\n",
       "    </tr>\n",
       "  </thead>\n",
       "  <tbody>\n",
       "    <tr>\n",
       "      <th>0</th>\n",
       "      <td>1</td>\n",
       "      <td>2</td>\n",
       "      <td>3</td>\n",
       "      <td>1</td>\n",
       "    </tr>\n",
       "    <tr>\n",
       "      <th>1</th>\n",
       "      <td>-2</td>\n",
       "      <td>2</td>\n",
       "      <td>0</td>\n",
       "      <td>0</td>\n",
       "    </tr>\n",
       "    <tr>\n",
       "      <th>2</th>\n",
       "      <td>3</td>\n",
       "      <td>-1</td>\n",
       "      <td>1</td>\n",
       "      <td>2</td>\n",
       "    </tr>\n",
       "    <tr>\n",
       "      <th>3</th>\n",
       "      <td>5</td>\n",
       "      <td>0</td>\n",
       "      <td>2</td>\n",
       "      <td>0</td>\n",
       "    </tr>\n",
       "  </tbody>\n",
       "</table>\n",
       "</div>"
      ],
      "text/plain": [
       "   0  1  2  3\n",
       "0  1  2  3  1\n",
       "1 -2  2  0  0\n",
       "2  3 -1  1  2\n",
       "3  5  0  2  0"
      ]
     },
     "execution_count": 8,
     "metadata": {},
     "output_type": "execute_result"
    }
   ],
   "source": [
    "A.T"
   ]
  },
  {
   "cell_type": "code",
   "execution_count": 25,
   "id": "df326b24",
   "metadata": {},
   "outputs": [
    {
     "data": {
      "text/html": [
       "<div>\n",
       "<style scoped>\n",
       "    .dataframe tbody tr th:only-of-type {\n",
       "        vertical-align: middle;\n",
       "    }\n",
       "\n",
       "    .dataframe tbody tr th {\n",
       "        vertical-align: top;\n",
       "    }\n",
       "\n",
       "    .dataframe thead th {\n",
       "        text-align: right;\n",
       "    }\n",
       "</style>\n",
       "<table border=\"1\" class=\"dataframe\">\n",
       "  <thead>\n",
       "    <tr style=\"text-align: right;\">\n",
       "      <th></th>\n",
       "      <th>0</th>\n",
       "      <th>1</th>\n",
       "      <th>2</th>\n",
       "      <th>3</th>\n",
       "    </tr>\n",
       "  </thead>\n",
       "  <tbody>\n",
       "    <tr>\n",
       "      <th>0</th>\n",
       "      <td>-0.235294</td>\n",
       "      <td>-0.235294</td>\n",
       "      <td>0.588235</td>\n",
       "      <td>-0.058824</td>\n",
       "    </tr>\n",
       "    <tr>\n",
       "      <th>1</th>\n",
       "      <td>0.294118</td>\n",
       "      <td>0.794118</td>\n",
       "      <td>-0.735294</td>\n",
       "      <td>0.323529</td>\n",
       "    </tr>\n",
       "    <tr>\n",
       "      <th>2</th>\n",
       "      <td>0.117647</td>\n",
       "      <td>0.117647</td>\n",
       "      <td>-0.294118</td>\n",
       "      <td>0.529412</td>\n",
       "    </tr>\n",
       "    <tr>\n",
       "      <th>3</th>\n",
       "      <td>0.294118</td>\n",
       "      <td>0.294118</td>\n",
       "      <td>-0.235294</td>\n",
       "      <td>-0.176471</td>\n",
       "    </tr>\n",
       "  </tbody>\n",
       "</table>\n",
       "</div>"
      ],
      "text/plain": [
       "          0         1         2         3\n",
       "0 -0.235294 -0.235294  0.588235 -0.058824\n",
       "1  0.294118  0.794118 -0.735294  0.323529\n",
       "2  0.117647  0.117647 -0.294118  0.529412\n",
       "3  0.294118  0.294118 -0.235294 -0.176471"
      ]
     },
     "execution_count": 25,
     "metadata": {},
     "output_type": "execute_result"
    }
   ],
   "source": [
    "pd.DataFrame(np.linalg.inv(A))"
   ]
  },
  {
   "cell_type": "code",
   "execution_count": 26,
   "id": "438717e9",
   "metadata": {},
   "outputs": [
    {
     "data": {
      "text/html": [
       "<div>\n",
       "<style scoped>\n",
       "    .dataframe tbody tr th:only-of-type {\n",
       "        vertical-align: middle;\n",
       "    }\n",
       "\n",
       "    .dataframe tbody tr th {\n",
       "        vertical-align: top;\n",
       "    }\n",
       "\n",
       "    .dataframe thead th {\n",
       "        text-align: right;\n",
       "    }\n",
       "</style>\n",
       "<table border=\"1\" class=\"dataframe\">\n",
       "  <thead>\n",
       "    <tr style=\"text-align: right;\">\n",
       "      <th></th>\n",
       "      <th>0</th>\n",
       "      <th>1</th>\n",
       "      <th>2</th>\n",
       "      <th>3</th>\n",
       "    </tr>\n",
       "  </thead>\n",
       "  <tbody>\n",
       "    <tr>\n",
       "      <th>0</th>\n",
       "      <td>1.0</td>\n",
       "      <td>0.0</td>\n",
       "      <td>-0.0</td>\n",
       "      <td>-0.0</td>\n",
       "    </tr>\n",
       "    <tr>\n",
       "      <th>1</th>\n",
       "      <td>-0.0</td>\n",
       "      <td>1.0</td>\n",
       "      <td>-0.0</td>\n",
       "      <td>0.0</td>\n",
       "    </tr>\n",
       "    <tr>\n",
       "      <th>2</th>\n",
       "      <td>0.0</td>\n",
       "      <td>0.0</td>\n",
       "      <td>1.0</td>\n",
       "      <td>0.0</td>\n",
       "    </tr>\n",
       "    <tr>\n",
       "      <th>3</th>\n",
       "      <td>0.0</td>\n",
       "      <td>0.0</td>\n",
       "      <td>0.0</td>\n",
       "      <td>1.0</td>\n",
       "    </tr>\n",
       "  </tbody>\n",
       "</table>\n",
       "</div>"
      ],
      "text/plain": [
       "     0    1    2    3\n",
       "0  1.0  0.0 -0.0 -0.0\n",
       "1 -0.0  1.0 -0.0  0.0\n",
       "2  0.0  0.0  1.0  0.0\n",
       "3  0.0  0.0  0.0  1.0"
      ]
     },
     "execution_count": 26,
     "metadata": {},
     "output_type": "execute_result"
    }
   ],
   "source": [
    "# 역행렬 확인\n",
    "pd.DataFrame(np.dot(A,pd.DataFrame(np.linalg.inv(A)))).round(5)"
   ]
  },
  {
   "cell_type": "code",
   "execution_count": 19,
   "id": "086e065f",
   "metadata": {},
   "outputs": [
    {
     "data": {
      "text/plain": [
       "4"
      ]
     },
     "execution_count": 19,
     "metadata": {},
     "output_type": "execute_result"
    }
   ],
   "source": [
    "#\n",
    "np.linalg.matrix_rank(A)"
   ]
  },
  {
   "cell_type": "markdown",
   "id": "57716b91",
   "metadata": {},
   "source": [
    "# 2\n",
    "### 행렬 A의 의 A^1/2과 A^-1/2를 구하시오."
   ]
  },
  {
   "cell_type": "code",
   "execution_count": 31,
   "id": "6abbca9c",
   "metadata": {},
   "outputs": [],
   "source": [
    "from scipy.linalg import sqrtm"
   ]
  },
  {
   "cell_type": "code",
   "execution_count": 48,
   "id": "fbdb3239",
   "metadata": {},
   "outputs": [],
   "source": [
    "A = pd.DataFrame([[1, -2], [2, 2]])"
   ]
  },
  {
   "cell_type": "code",
   "execution_count": 49,
   "id": "8f77a1c8",
   "metadata": {},
   "outputs": [
    {
     "data": {
      "text/plain": [
       "array([[ 1.22735265+1.11022302e-16j, -0.71161403+0.00000000e+00j],\n",
       "       [ 0.71161403-5.55111512e-17j,  1.58315967+0.00000000e+00j]])"
      ]
     },
     "execution_count": 49,
     "metadata": {},
     "output_type": "execute_result"
    }
   ],
   "source": [
    "A_sqt = sqrtm(A)\n",
    "A_sqt"
   ]
  },
  {
   "cell_type": "code",
   "execution_count": 54,
   "id": "bed2dd56",
   "metadata": {},
   "outputs": [
    {
     "data": {
      "text/html": [
       "<div>\n",
       "<style scoped>\n",
       "    .dataframe tbody tr th:only-of-type {\n",
       "        vertical-align: middle;\n",
       "    }\n",
       "\n",
       "    .dataframe tbody tr th {\n",
       "        vertical-align: top;\n",
       "    }\n",
       "\n",
       "    .dataframe thead th {\n",
       "        text-align: right;\n",
       "    }\n",
       "</style>\n",
       "<table border=\"1\" class=\"dataframe\">\n",
       "  <thead>\n",
       "    <tr style=\"text-align: right;\">\n",
       "      <th></th>\n",
       "      <th>0</th>\n",
       "      <th>1</th>\n",
       "    </tr>\n",
       "  </thead>\n",
       "  <tbody>\n",
       "    <tr>\n",
       "      <th>0</th>\n",
       "      <td>True</td>\n",
       "      <td>True</td>\n",
       "    </tr>\n",
       "    <tr>\n",
       "      <th>1</th>\n",
       "      <td>True</td>\n",
       "      <td>True</td>\n",
       "    </tr>\n",
       "  </tbody>\n",
       "</table>\n",
       "</div>"
      ],
      "text/plain": [
       "      0     1\n",
       "0  True  True\n",
       "1  True  True"
      ]
     },
     "execution_count": 54,
     "metadata": {},
     "output_type": "execute_result"
    }
   ],
   "source": [
    "# A_sqt * A_sqt = A\n",
    "np.dot(A_sqt,A_sqt).round(5)==A"
   ]
  },
  {
   "cell_type": "code",
   "execution_count": 44,
   "id": "7a9d8c41",
   "metadata": {},
   "outputs": [
    {
     "data": {
      "text/html": [
       "<div>\n",
       "<style scoped>\n",
       "    .dataframe tbody tr th:only-of-type {\n",
       "        vertical-align: middle;\n",
       "    }\n",
       "\n",
       "    .dataframe tbody tr th {\n",
       "        vertical-align: top;\n",
       "    }\n",
       "\n",
       "    .dataframe thead th {\n",
       "        text-align: right;\n",
       "    }\n",
       "</style>\n",
       "<table border=\"1\" class=\"dataframe\">\n",
       "  <thead>\n",
       "    <tr style=\"text-align: right;\">\n",
       "      <th></th>\n",
       "      <th>0</th>\n",
       "      <th>1</th>\n",
       "    </tr>\n",
       "  </thead>\n",
       "  <tbody>\n",
       "    <tr>\n",
       "      <th>0</th>\n",
       "      <td>0.646322-0.000000j</td>\n",
       "      <td>0.290515-0.000000j</td>\n",
       "    </tr>\n",
       "    <tr>\n",
       "      <th>1</th>\n",
       "      <td>-0.290515+0.000000j</td>\n",
       "      <td>0.501065+0.000000j</td>\n",
       "    </tr>\n",
       "  </tbody>\n",
       "</table>\n",
       "</div>"
      ],
      "text/plain": [
       "                    0                   1\n",
       "0  0.646322-0.000000j  0.290515-0.000000j\n",
       "1 -0.290515+0.000000j  0.501065+0.000000j"
      ]
     },
     "execution_count": 44,
     "metadata": {},
     "output_type": "execute_result"
    }
   ],
   "source": [
    "A_sqt_m = pd.DataFrame((np.linalg.inv(A_sqt)))\n",
    "A_sqt_m"
   ]
  },
  {
   "cell_type": "code",
   "execution_count": 59,
   "id": "695b8238",
   "metadata": {},
   "outputs": [
    {
     "data": {
      "text/plain": [
       "array([[1.+0.j, 0.+0.j],\n",
       "       [0.+0.j, 1.+0.j]])"
      ]
     },
     "execution_count": 59,
     "metadata": {},
     "output_type": "execute_result"
    }
   ],
   "source": [
    "# A_sqt * A_sqt = A-1 \n",
    "A_sqt2 = np.dot(A_sqt_m,A_sqt_m).round(5)\n",
    "np.dot(A_sqt2,A).round(4)"
   ]
  },
  {
   "cell_type": "markdown",
   "id": "6553a88c",
   "metadata": {},
   "source": [
    "# 3\n",
    "### [예제 2-4]의 [그림 2-11(a)]와 [그림 2-11(c)]에서 행렬식이 역할을 제대로 수행하는지 확인하시오."
   ]
  },
  {
   "cell_type": "code",
   "execution_count": 68,
   "id": "f31500c0",
   "metadata": {},
   "outputs": [],
   "source": [
    "# 그림 2-11(a)\n",
    "A= pd.DataFrame([[2, 1], [1, 2]])\n",
    "행렬식 = 3\n",
    "x1 = pd.DataFrame([[1],[1]])\n",
    "x1_a = pd.DataFrame([[3],[3]])\n",
    "# A는 x1을 x1_a로 변환\n",
    "\n",
    "# 그림 2-11(c)\n",
    "C= pd.DataFrame([[2, 1], [-1, 2]])\n",
    "행렬식 = 5\n",
    "x1 = pd.DataFrame([[1],[1]])\n",
    "x1_c = pd.DataFrame([[3],[1]])\n",
    "# A는 x1을 x1_c로 변환"
   ]
  },
  {
   "cell_type": "code",
   "execution_count": null,
   "id": "7733b6de",
   "metadata": {},
   "outputs": [],
   "source": [
    "2-11(a) True\n",
    "x1 넓이 = 1\n",
    "x1_a 이 만드는 평행사변형의 넓이 = 3 = (9-3-3)\n",
    "행렬식 = 3\n",
    "x1넓이*행렬식(3) = x1_a넓이"
   ]
  },
  {
   "cell_type": "code",
   "execution_count": null,
   "id": "78e6f1c7",
   "metadata": {},
   "outputs": [],
   "source": [
    "2-11(c) True\n",
    "x1 넓이 = 1\n",
    "x1_c  이 만드는 정사각형의 넓이 = 5 = (9 - 2 - 2)\n",
    "행렬식 = 5\n",
    "x1넓이*행렬식(5) = x1_c넓이"
   ]
  },
  {
   "cell_type": "markdown",
   "id": "c21d7f21",
   "metadata": {},
   "source": [
    "# 4 \n",
    "### 변수가 4개인 다음 2차 다항식 2개를 [예제 2-1]처럼 행렬로 표시하시오. 행렬을 더함으로써 다항식 덧셈 f1(x) + f2(x)를 수행할 수 있다는 사실을 이 예제를 이용하여 보이시오"
   ]
  },
  {
   "cell_type": "code",
   "execution_count": 72,
   "id": "898146a7",
   "metadata": {
    "scrolled": true
   },
   "outputs": [],
   "source": [
    "F1_2 = pd.DataFrame([[-2, -1.5, 0, 3.1], [2, 2, 0, -6], [-2.1, 0, 3, 0], [2, 3, 0, -2]])\n",
    "F1_1 = pd.DataFrame([1.2, 3.3, 0, -4]) \n",
    "F1_con = 4.2 \n",
    "F2_2 = pd.DataFrame([[3, 0, 3.5, -3.1], [2.1, -2, 0, -2], [-2.5, 0, 3, 0], [3, -6, 2, 0]]) # 이하 동일\n",
    "F2_1 = pd.DataFrame([2.2, 2.3, 3.3, -2])\n",
    "F2_con = 5.1\n",
    "\n",
    "F12_2 = F1_2+F2_2\n",
    "F12_1 = F1_1+F2_1\n",
    "F12_con =  F1_con+F2_con"
   ]
  },
  {
   "cell_type": "code",
   "execution_count": 74,
   "id": "3677d72f",
   "metadata": {},
   "outputs": [
    {
     "data": {
      "text/html": [
       "<div>\n",
       "<style scoped>\n",
       "    .dataframe tbody tr th:only-of-type {\n",
       "        vertical-align: middle;\n",
       "    }\n",
       "\n",
       "    .dataframe tbody tr th {\n",
       "        vertical-align: top;\n",
       "    }\n",
       "\n",
       "    .dataframe thead th {\n",
       "        text-align: right;\n",
       "    }\n",
       "</style>\n",
       "<table border=\"1\" class=\"dataframe\">\n",
       "  <thead>\n",
       "    <tr style=\"text-align: right;\">\n",
       "      <th></th>\n",
       "      <th>0</th>\n",
       "      <th>1</th>\n",
       "      <th>2</th>\n",
       "      <th>3</th>\n",
       "    </tr>\n",
       "  </thead>\n",
       "  <tbody>\n",
       "    <tr>\n",
       "      <th>0</th>\n",
       "      <td>1.0</td>\n",
       "      <td>-1.5</td>\n",
       "      <td>3.5</td>\n",
       "      <td>0.0</td>\n",
       "    </tr>\n",
       "    <tr>\n",
       "      <th>1</th>\n",
       "      <td>4.1</td>\n",
       "      <td>0.0</td>\n",
       "      <td>0.0</td>\n",
       "      <td>-8.0</td>\n",
       "    </tr>\n",
       "    <tr>\n",
       "      <th>2</th>\n",
       "      <td>-4.6</td>\n",
       "      <td>0.0</td>\n",
       "      <td>6.0</td>\n",
       "      <td>0.0</td>\n",
       "    </tr>\n",
       "    <tr>\n",
       "      <th>3</th>\n",
       "      <td>5.0</td>\n",
       "      <td>-3.0</td>\n",
       "      <td>2.0</td>\n",
       "      <td>-2.0</td>\n",
       "    </tr>\n",
       "  </tbody>\n",
       "</table>\n",
       "</div>"
      ],
      "text/plain": [
       "     0    1    2    3\n",
       "0  1.0 -1.5  3.5  0.0\n",
       "1  4.1  0.0  0.0 -8.0\n",
       "2 -4.6  0.0  6.0  0.0\n",
       "3  5.0 -3.0  2.0 -2.0"
      ]
     },
     "execution_count": 74,
     "metadata": {},
     "output_type": "execute_result"
    }
   ],
   "source": [
    "F12_2"
   ]
  },
  {
   "cell_type": "code",
   "execution_count": 75,
   "id": "dddaff10",
   "metadata": {},
   "outputs": [
    {
     "data": {
      "text/html": [
       "<div>\n",
       "<style scoped>\n",
       "    .dataframe tbody tr th:only-of-type {\n",
       "        vertical-align: middle;\n",
       "    }\n",
       "\n",
       "    .dataframe tbody tr th {\n",
       "        vertical-align: top;\n",
       "    }\n",
       "\n",
       "    .dataframe thead th {\n",
       "        text-align: right;\n",
       "    }\n",
       "</style>\n",
       "<table border=\"1\" class=\"dataframe\">\n",
       "  <thead>\n",
       "    <tr style=\"text-align: right;\">\n",
       "      <th></th>\n",
       "      <th>0</th>\n",
       "    </tr>\n",
       "  </thead>\n",
       "  <tbody>\n",
       "    <tr>\n",
       "      <th>0</th>\n",
       "      <td>3.4</td>\n",
       "    </tr>\n",
       "    <tr>\n",
       "      <th>1</th>\n",
       "      <td>5.6</td>\n",
       "    </tr>\n",
       "    <tr>\n",
       "      <th>2</th>\n",
       "      <td>3.3</td>\n",
       "    </tr>\n",
       "    <tr>\n",
       "      <th>3</th>\n",
       "      <td>-6.0</td>\n",
       "    </tr>\n",
       "  </tbody>\n",
       "</table>\n",
       "</div>"
      ],
      "text/plain": [
       "     0\n",
       "0  3.4\n",
       "1  5.6\n",
       "2  3.3\n",
       "3 -6.0"
      ]
     },
     "execution_count": 75,
     "metadata": {},
     "output_type": "execute_result"
    }
   ],
   "source": [
    "F12_1"
   ]
  },
  {
   "cell_type": "code",
   "execution_count": 76,
   "id": "03c86d7c",
   "metadata": {},
   "outputs": [
    {
     "data": {
      "text/plain": [
       "9.3"
      ]
     },
     "execution_count": 76,
     "metadata": {},
     "output_type": "execute_result"
    }
   ],
   "source": [
    "F12_con"
   ]
  },
  {
   "cell_type": "markdown",
   "id": "9d59343e",
   "metadata": {},
   "source": [
    "# 5\n",
    "### 놈을 계산하시오\n",
    "### (1) x = (3 -4 -1.2 0 2.3)^T의 1차, 2차, 3차 놈과 최대 놈\n",
    "### (2) [[2, 1], [1, 5], [4, 1]]의 프로베니우스 놈"
   ]
  },
  {
   "cell_type": "code",
   "execution_count": 77,
   "id": "483f944b",
   "metadata": {},
   "outputs": [],
   "source": [
    "x = [3, -4, -1.2, 0, 2.3]"
   ]
  },
  {
   "cell_type": "code",
   "execution_count": 85,
   "id": "94df754b",
   "metadata": {},
   "outputs": [
    {
     "name": "stdout",
     "output_type": "stream",
     "text": [
      "10.5\n",
      "5.632938842203065\n",
      "4.716120891176797\n",
      "3\n"
     ]
    }
   ],
   "source": [
    "# 1차\n",
    "print(np.linalg.norm(x, 1))\n",
    "\n",
    "# 2차\n",
    "print(np.linalg.norm(x, 2))\n",
    "\n",
    "# 3차\n",
    "print(np.linalg.norm(x, 3))\n",
    "\n",
    "# 최대놈\n",
    "print(max(x))"
   ]
  },
  {
   "cell_type": "code",
   "execution_count": 88,
   "id": "796a8d36",
   "metadata": {},
   "outputs": [
    {
     "name": "stdout",
     "output_type": "stream",
     "text": [
      "5.949937331686055\n"
     ]
    }
   ],
   "source": [
    "# 프로베니우스 놈 = 2차 놈\n",
    "X = pd.DataFrame([[2, 1], [1, 5], [4, 1]])\n",
    "print(np.linalg.norm(X, 2))"
   ]
  },
  {
   "cell_type": "markdown",
   "id": "4e611738",
   "metadata": {},
   "source": [
    "# 6 \n",
    "### [예제 2-3]에서 T=2.0으로 바뀌었다고 가정하고 [그림 2-4(b)]를 새로 그리시오. T가 변함에 따라 어떤 변화가 나타나는지 설명하시오."
   ]
  },
  {
   "cell_type": "code",
   "execution_count": null,
   "id": "af612108",
   "metadata": {},
   "outputs": [],
   "source": [
    "평면방정식의 결과값이 1에서 2로 바뀜\n",
    "1.2*x1 + 0.7*x2 + 1.0*x3 = 2"
   ]
  },
  {
   "cell_type": "code",
   "execution_count": null,
   "id": "3a7d62e7",
   "metadata": {},
   "outputs": [],
   "source": [
    "각 축을 결과로 하는 함수 (f(x1),f(x2),f(x3))로 생각해보면,\n",
    "절편값의 증가를 의미하므로 임계값의 증가는 평면이 원점으로부터 멀어지는 결과를 보일 것."
   ]
  },
  {
   "cell_type": "markdown",
   "id": "81849a23",
   "metadata": {},
   "source": [
    "# 7\n",
    "### 아래 그림은 x1과 x3 축이 이루는 평면이 결정평면인 상황이다. 이에 해당하는 퍼셉트론을 [그림 2-4(a)]처럼 제시하시오."
   ]
  },
  {
   "cell_type": "code",
   "execution_count": null,
   "id": "63baa9b8",
   "metadata": {},
   "outputs": [],
   "source": [
    "k(가중치)*x2 = 0 (T)"
   ]
  },
  {
   "cell_type": "code",
   "execution_count": 127,
   "id": "dfa05893",
   "metadata": {},
   "outputs": [
    {
     "data": {
      "text/plain": [
       "array([5, 7, 8, 7, 8, 7, 5, 7, 6, 7, 5, 6, 8, 6, 6, 7, 7, 6, 8, 5, 7, 5,\n",
       "       6, 6, 8, 7, 8, 8, 6, 5, 7, 6, 5, 6, 7, 5, 7, 6, 7, 8, 7, 6, 5, 8,\n",
       "       6, 7, 8, 7, 7, 6, 7, 6, 7, 7, 6, 8, 7, 4, 7, 8, 6, 8, 7, 7, 8, 8,\n",
       "       8, 8, 7, 7, 5, 3, 8, 6, 6, 7, 5, 7, 6, 6, 5, 5, 8, 6, 6, 7, 6, 8,\n",
       "       8, 6, 7, 5, 7, 8, 7, 6, 7, 5, 5, 6])"
      ]
     },
     "execution_count": 127,
     "metadata": {},
     "output_type": "execute_result"
    }
   ],
   "source": [
    "data_binom"
   ]
  },
  {
   "cell_type": "markdown",
   "id": "93951ebb",
   "metadata": {},
   "source": [
    "# 8\n",
    "### m=8일 때 p=0.1,0.5,0.8  각각의 이항 분포를 그림으로 그리시오.\n"
   ]
  },
  {
   "cell_type": "code",
   "execution_count": 140,
   "id": "9691b253",
   "metadata": {
    "scrolled": true
   },
   "outputs": [
    {
     "data": {
      "text/plain": [
       "(0.0, 8.0)"
      ]
     },
     "execution_count": 140,
     "metadata": {},
     "output_type": "execute_result"
    },
    {
     "data": {
      "image/png": "[encoded data removed]",
      "text/plain": [
       "<Figure size 432x288 with 1 Axes>"
      ]
     },
     "metadata": {
      "needs_background": "light"
     },
     "output_type": "display_data"
    }
   ],
   "source": [
    "from scipy.stats import binom\n",
    "import seaborn as sb\n",
    "import matplotlib.pyplot as plt\n",
    "m = 8\n",
    "for p in [0.1,0.5,0.8]:\n",
    "    data_binom = binom.rvs(n=m,p=p,loc=0,size=100)\n",
    "    ax = sb.kdeplot(data_binom,label=\"p:\"+str(p))\n",
    "#     hist_kws={'linewidth': 25,'alpha':0.6},\n",
    "#                      label=\"p:\"+str(p)\n",
    "#                     )\n",
    "ax.set(xlabel='binomial', ylabel='Frequency')\n",
    "plt.legend()\n",
    "plt.xlim([0,8])"
   ]
  },
  {
   "cell_type": "markdown",
   "id": "65f1bfde",
   "metadata": {},
   "source": [
    "# 9\n",
    "### 윷놀이에서 P(뒷면) = 0.4, 0.5, 0.6인 3가지 경우에 대해 답하시오."
   ]
  },
  {
   "cell_type": "code",
   "execution_count": 185,
   "id": "413647d3",
   "metadata": {},
   "outputs": [
    {
     "data": {
      "text/html": [
       "<div>\n",
       "<style scoped>\n",
       "    .dataframe tbody tr th:only-of-type {\n",
       "        vertical-align: middle;\n",
       "    }\n",
       "\n",
       "    .dataframe tbody tr th {\n",
       "        vertical-align: top;\n",
       "    }\n",
       "\n",
       "    .dataframe thead th {\n",
       "        text-align: right;\n",
       "    }\n",
       "</style>\n",
       "<table border=\"1\" class=\"dataframe\">\n",
       "  <thead>\n",
       "    <tr style=\"text-align: right;\">\n",
       "      <th></th>\n",
       "      <th>모</th>\n",
       "      <th>도</th>\n",
       "      <th>개</th>\n",
       "      <th>걸</th>\n",
       "      <th>윷</th>\n",
       "      <th>sum</th>\n",
       "    </tr>\n",
       "  </thead>\n",
       "  <tbody>\n",
       "    <tr>\n",
       "      <th>p=0.4</th>\n",
       "      <td>0.0256</td>\n",
       "      <td>0.1536</td>\n",
       "      <td>0.3456</td>\n",
       "      <td>0.3456</td>\n",
       "      <td>0.1296</td>\n",
       "      <td>1.0</td>\n",
       "    </tr>\n",
       "    <tr>\n",
       "      <th>p=0.5</th>\n",
       "      <td>0.0625</td>\n",
       "      <td>0.2500</td>\n",
       "      <td>0.3750</td>\n",
       "      <td>0.2500</td>\n",
       "      <td>0.0625</td>\n",
       "      <td>1.0</td>\n",
       "    </tr>\n",
       "    <tr>\n",
       "      <th>p=0.6</th>\n",
       "      <td>0.1296</td>\n",
       "      <td>0.3456</td>\n",
       "      <td>0.3456</td>\n",
       "      <td>0.1536</td>\n",
       "      <td>0.0256</td>\n",
       "      <td>1.0</td>\n",
       "    </tr>\n",
       "  </tbody>\n",
       "</table>\n",
       "</div>"
      ],
      "text/plain": [
       "            모       도       개       걸       윷  sum\n",
       "p=0.4  0.0256  0.1536  0.3456  0.3456  0.1296  1.0\n",
       "p=0.5  0.0625  0.2500  0.3750  0.2500  0.0625  1.0\n",
       "p=0.6  0.1296  0.3456  0.3456  0.1536  0.0256  1.0"
      ]
     },
     "execution_count": 185,
     "metadata": {},
     "output_type": "execute_result"
    },
    {
     "data": {
      "image/png": "[encoded data removed]",
      "text/plain": [
       "<Figure size 1080x360 with 3 Axes>"
      ]
     },
     "metadata": {
      "needs_background": "light"
     },
     "output_type": "display_data"
    }
   ],
   "source": [
    "# (1) 각 경우의 확률 분포를 구하시오.\n",
    "# 결과가 둘중 하나이므로 베르누이 분포 이용\n",
    "import math\n",
    "import scipy as sp\n",
    "from scipy.stats import bernoulli\n",
    "\n",
    "plt.figure(figsize=(15,5))\n",
    "palette = ['r','g','b']\n",
    "\n",
    "\n",
    "def 윷놀이확률(뒷면수, P):\n",
    "    ber = sp.stats.bernoulli(P)\n",
    "    앞면확률 = ber.pmf(xx)[0] \n",
    "    뒷면확률 = ber.pmf(xx)[1]\n",
    "    nCk = math.comb(4, 뒷면수)\n",
    "    success_prob = (뒷면확률 ** 뒷면수) * ((앞면확률) ** (4 - 뒷면수))\n",
    "    probability = nCk * success_prob\n",
    "    return probability\n",
    "\n",
    "확률리스트 = []\n",
    "for i, P in enumerate([0.4,0.5,0.6]):\n",
    "    plt.subplot(1, 3, i+1)    \n",
    "    xx=[0,1]\n",
    "    ber = sp.stats.bernoulli(P)\n",
    "    plt.bar(xx, ber.pmf(xx), align = \"center\",label='p='+str(P))\n",
    "    ax.set(xlabel='Bernouli', ylabel='Frequency')\n",
    "    plt.text(xx[0]+0.15, ber.pmf(xx)[0], round(ber.pmf(xx)[0],3), color='blue', fontweight='bold')\n",
    "    plt.text(xx[1]-0.2, ber.pmf(xx)[1], round(ber.pmf(xx)[1],3), color='blue', fontweight='bold')\n",
    "    plt.legend()\n",
    "    plt.xlim([0,1])\n",
    "    plt.ylim([0,1])\n",
    "    \n",
    "    모= 윷놀이확률(4,P)\n",
    "    도= 윷놀이확률(3,P)\n",
    "    개= 윷놀이확률(2,P)\n",
    "    걸= 윷놀이확률(1,P)\n",
    "    윷= 윷놀이확률(0,P)\n",
    "    확률리스트.append([모,도,개,걸,윷])\n",
    "P에서확률 = pd.DataFrame(확률리스트)\n",
    "P에서확률.columns = ['모','도','개','걸','윷']\n",
    "P에서확률.index = ['p=0.4','p=0.5','p=0.6']\n",
    "P에서확률['sum']=P에서확률.sum(axis=1)\n",
    "P에서확률"
   ]
  },
  {
   "cell_type": "code",
   "execution_count": 206,
   "id": "3bfdd5b7",
   "metadata": {},
   "outputs": [
    {
     "name": "stdout",
     "output_type": "stream",
     "text": [
      "뒷면확률 0.4 일때 :  1.9920393375694427 비트 or -1.329451488056614 나츠\n",
      "뒷면확률 0.5 일때 :  2.0306390622295662 비트 or -1.3206962961904287 나츠\n",
      "뒷면확률 0.6 일때 :  1.9920393375694432 비트 or -1.329451488056614 나츠\n"
     ]
    }
   ],
   "source": [
    "# (2) 엔트로피\n",
    "def 비트(p):\n",
    "    Hb = -p*math.log2(p)\n",
    "    return Hb\n",
    "\n",
    "def 나츠(p):\n",
    "    Hn = -p*math.exp(p)\n",
    "    return Hn\n",
    "\n",
    "for p in [0.4,0.5,0.6]:\n",
    "    H비트 = 0\n",
    "    H나츠 = 0\n",
    "    for 나온거 in ['모','도','개','걸','윷']:\n",
    "        나올확률 = P에서확률.loc['p='+str(p),나온거]\n",
    "        H비트+=비트(나올확률)\n",
    "        H나츠+=나츠(나올확률)\n",
    "    print('뒷면확률',p,\"일때 : \",H비트,'비트 or',H나츠,'나츠')"
   ]
  },
  {
   "cell_type": "code",
   "execution_count": 218,
   "id": "e102220f",
   "metadata": {},
   "outputs": [
    {
     "name": "stdout",
     "output_type": "stream",
     "text": [
      "뒷면확률 0.4 0.5 일때 교차엔트로피 :  2.1082369597507684 비트 or -1.3090400609266228 나츠\n",
      "뒷면확률 0.4 0.6 일때 교차엔트로피 :  2.4600093381463677 비트 or -1.2703693804268086 나츠\n",
      "> 이유\n",
      " 교차엔트로피 H(p(a),p(b))는 p(a)로 만드는 분포를 p(b)가 얼마나 잘 따라했는가에 대한 값이다.\n",
      " 단순 베르누이 분포이므로, 확률값인 a와 b값이 가까울수록 엔트로피값이 작다.\n"
     ]
    }
   ],
   "source": [
    "# (3) p(k)=0.4 와 p(k)=0.5의 교차 엔트로피와 p(k)=0.4와 p(k)=0.6의 교차 엔트로피를 구하시오. \n",
    "# 어느 것이 큰지 확인하고 그 이유를 설명하시오. \n",
    "def 교차비트(p1,p2):\n",
    "    Hb = -p1*math.log2(p2)\n",
    "    return Hb\n",
    "\n",
    "def 교차나츠(p1,p2):\n",
    "    Hn = -p1*math.exp(p2)\n",
    "    return Hn\n",
    "\n",
    "for p1,p2 in zip([0.4,0.4],[0.5,0.6]):\n",
    "    H비트 = 0\n",
    "    H나츠 = 0\n",
    "\n",
    "    for 나온거 in ['모','도','개','걸','윷']:\n",
    "        확률1 = P에서확률.loc['p='+str(p1),나온거]\n",
    "        확률2 = P에서확률.loc['p='+str(p2),나온거]\n",
    "\n",
    "\n",
    "        H비트+=교차비트(확률1,확률2)\n",
    "        H나츠+=교차나츠(확률1,확률2)\n",
    "    print('뒷면확률',p1,p2,\"일때 교차엔트로피 : \",H비트,'비트 or',H나츠,'나츠')\n",
    "print(\"> 이유\")\n",
    "print(' 교차엔트로피 H(p(a),p(b))는 p(a)로 만드는 분포를 p(b)가 얼마나 잘 따라했는가에 대한 값이다.\\n 단순 베르누이 분포이므로, 확률값인 a와 b값이 가까울수록 엔트로피값이 작다.')"
   ]
  },
  {
   "cell_type": "code",
   "execution_count": 217,
   "id": "440f1627",
   "metadata": {},
   "outputs": [
    {
     "name": "stdout",
     "output_type": "stream",
     "text": [
      "뒷면확률 0.4 0.6 일때 교차엔트로피 :  2.4600093381463677 비트 or -1.2703693804268086 나츠\n",
      "뒷면확률 0.6 0.4 일때 교차엔트로피 :  2.4600093381463672 비트 or -1.2703693804268084 나츠\n"
     ]
    }
   ],
   "source": [
    "for p1,p2 in zip([0.4,0.6],[0.6,0.4]):\n",
    "    H비트 = 0\n",
    "    H나츠 = 0\n",
    "\n",
    "    for 나온거 in ['모','도','개','걸','윷']:\n",
    "        확률1 = P에서확률.loc['p='+str(p1),나온거]\n",
    "        확률2 = P에서확률.loc['p='+str(p2),나온거]\n",
    "\n",
    "\n",
    "        H비트+=교차비트(확률1,확률2)\n",
    "        H나츠+=교차나츠(확률1,확률2)\n",
    "    print('뒷면확률',p1,p2,\"일때 교차엔트로피 : \",H비트,'비트 or',H나츠,'나츠')        "
   ]
  },
  {
   "cell_type": "code",
   "execution_count": 221,
   "id": "981a7a2c",
   "metadata": {},
   "outputs": [
    {
     "name": "stdout",
     "output_type": "stream",
     "text": [
      "뒷면확률 0.4 0.5 일때 KL다이버전스 :  0.11619762218132551\n",
      "뒷면확률 0.4 0.6 일때 KL다이버전스 :  0.46797000057692456\n"
     ]
    }
   ],
   "source": [
    "# p(k)=0.4, p(k)=0.5의 KL 다이버전스와 p(k)=0.4와 p(k)=0.6의 KL 다이버전스를 구하시오. 어느 것이 큰지 확인하고 그 이유를 설명하시오. \n",
    "def KL다이버전스(p1,p2):\n",
    "    KL = p1*math.log2(p1/p2)\n",
    "    return KL\n",
    "\n",
    "for p1,p2 in zip([0.4,0.4],[0.5,0.6]):\n",
    "    KL = 0\n",
    "\n",
    "    for 나온거 in ['모','도','개','걸','윷']:\n",
    "        확률1 = P에서확률.loc['p='+str(p1),나온거]\n",
    "        확률2 = P에서확률.loc['p='+str(p2),나온거]\n",
    "\n",
    "        KL+=KL다이버전스(확률1,확률2)\n",
    "    print('뒷면확률',p1,p2,\"일때 KL다이버전스 : \",KL)"
   ]
  },
  {
   "cell_type": "markdown",
   "id": "329e2c3b",
   "metadata": {},
   "source": [
    "# 10\n",
    "### 특징 벡터가 3차원이면 퍼셉트론은 매개변수 4개를 가진다. [그림 2-4(a)]가 이 경우에 해당한다. \n",
    "### 모든 매개변수 [-1, 1] 범위에 있고, 이 범위를 0.0001 간격으로 나누어 탐색한다고 가정한다. \n",
    "### 탐색에는 0.01밀리초가 걸린다.(10e-5)"
   ]
  },
  {
   "cell_type": "code",
   "execution_count": 239,
   "id": "4ebbe1a5",
   "metadata": {},
   "outputs": [
    {
     "name": "stdout",
     "output_type": "stream",
     "text": [
      "20000\n",
      "탐색점 160000000000000000\n",
      "걸리는시간(s) 16000000000000\n"
     ]
    }
   ],
   "source": [
    "# (1) 참색해야 하는 점의 개수를 쓰시오.\n",
    "n = 2/0.0001\n",
    "print(round(n))\n",
    "print('탐색점',round(n**4))\n",
    "\n",
    "print('걸리는시간(s)',round((n**4)*(10e-5)))\n",
    "# 1.6×10^13 초 [s]\n",
    "# =   5.070198 ×10^5 년"
   ]
  },
  {
   "cell_type": "code",
   "execution_count": null,
   "id": "c6bddb64",
   "metadata": {},
   "outputs": [],
   "source": [
    "1600000000000\n",
    "16000000000000"
   ]
  },
  {
   "cell_type": "code",
   "execution_count": 240,
   "id": "fd833495",
   "metadata": {},
   "outputs": [
    {
     "name": "stdout",
     "output_type": "stream",
     "text": [
      "20000\n",
      "탐색점 1638400000000000150573604997421109052768820587981775375958016\n",
      "걸리는시간(s) 163840000000000020667391713747470789319461186761280978944\n"
     ]
    }
   ],
   "source": [
    "# (2) [그림 1-6]에 있는 Wine 데이터베이스의 특징 벡터는 13차원이다. \n",
    "# 앞의 가정을 그대로 적용한다면 Wine 데이터베이스를 학습할 때 점의 개수와 학습에 걸리는 시간을 쓰시오.\n",
    "n = 2/0.0001\n",
    "print(round(n))\n",
    "print('탐색점',round(n**14))\n",
    "print('걸리는시간(s)',round((n**14)*(10e-5)))\n",
    "# 1.6×10^55 초 [s]"
   ]
  },
  {
   "cell_type": "code",
   "execution_count": 241,
   "id": "6f093396",
   "metadata": {},
   "outputs": [
    {
     "data": {
      "text/plain": [
       "1.6384"
      ]
     },
     "execution_count": 241,
     "metadata": {},
     "output_type": "execute_result"
    }
   ],
   "source": [
    "163840000000000020667391713747470789319461186761280978944/10e55"
   ]
  },
  {
   "cell_type": "markdown",
   "id": "5d841a50",
   "metadata": {},
   "source": [
    "# 11.\n",
    "### R^3 => R^2 인 다음 벡터 함수의 야코비안 행렬을 구하시오\n",
    "### f(x) = (3.9x1+x2^3- 2.3x3^2, -2x1x2x3^2)^T"
   ]
  },
  {
   "cell_type": "code",
   "execution_count": 242,
   "id": "7361741d",
   "metadata": {},
   "outputs": [
    {
     "data": {
      "text/html": [
       "<div>\n",
       "<style scoped>\n",
       "    .dataframe tbody tr th:only-of-type {\n",
       "        vertical-align: middle;\n",
       "    }\n",
       "\n",
       "    .dataframe tbody tr th {\n",
       "        vertical-align: top;\n",
       "    }\n",
       "\n",
       "    .dataframe thead th {\n",
       "        text-align: right;\n",
       "    }\n",
       "</style>\n",
       "<table border=\"1\" class=\"dataframe\">\n",
       "  <thead>\n",
       "    <tr style=\"text-align: right;\">\n",
       "      <th></th>\n",
       "      <th>0</th>\n",
       "      <th>1</th>\n",
       "      <th>2</th>\n",
       "    </tr>\n",
       "  </thead>\n",
       "  <tbody>\n",
       "    <tr>\n",
       "      <th>0</th>\n",
       "      <td>3.9</td>\n",
       "      <td>3*x2^2</td>\n",
       "      <td>-4.6*x3</td>\n",
       "    </tr>\n",
       "    <tr>\n",
       "      <th>1</th>\n",
       "      <td>-2*x2x3^2</td>\n",
       "      <td>-2*x1x3^2</td>\n",
       "      <td>-4*x1x2x3</td>\n",
       "    </tr>\n",
       "  </tbody>\n",
       "</table>\n",
       "</div>"
      ],
      "text/plain": [
       "           0          1          2\n",
       "0        3.9     3*x2^2    -4.6*x3\n",
       "1  -2*x2x3^2  -2*x1x3^2  -4*x1x2x3"
      ]
     },
     "execution_count": 242,
     "metadata": {},
     "output_type": "execute_result"
    }
   ],
   "source": [
    "J = pd.DataFrame([['3.9','3*x2^2','-4.6*x3'],['-2*x2x3^2','-2*x1x3^2','-4*x1x2x3']])\n",
    "J"
   ]
  },
  {
   "cell_type": "markdown",
   "id": "62bd33c9",
   "metadata": {},
   "source": [
    "# 12\n",
    "### 다음 합성함수에 대해 답하시오\n",
    "### f(x)=2(1/4(1-2x)^2-1)^3 - 3(1/4(1-2x)^2-1)^2 -3"
   ]
  },
  {
   "cell_type": "code",
   "execution_count": 257,
   "id": "25df9e44",
   "metadata": {},
   "outputs": [
    {
     "ename": "SyntaxError",
     "evalue": "invalid syntax (<ipython-input-257-fc427b115a9b>, line 3)",
     "output_type": "error",
     "traceback": [
      "\u001b[0;36m  File \u001b[0;32m\"<ipython-input-257-fc427b115a9b>\"\u001b[0;36m, line \u001b[0;32m3\u001b[0m\n\u001b[0;31m    i(x) = 1-2x\u001b[0m\n\u001b[0m              ^\u001b[0m\n\u001b[0;31mSyntaxError\u001b[0m\u001b[0;31m:\u001b[0m invalid syntax\n"
     ]
    }
   ],
   "source": [
    "# (1)식 2.53(연쇄법칙)에 따라 i(x)와 h(x)를 쓰시오\n",
    "i(x) = 1-2*x\n",
    "h(x) = (1/4)*(i(x)**2)-1\n",
    "g(x) = 2(h(i(x)))**3 - 3(h(i(x)))**2 - 3 "
   ]
  },
  {
   "cell_type": "code",
   "execution_count": 267,
   "id": "7d2aea9d",
   "metadata": {},
   "outputs": [
    {
     "name": "stdout",
     "output_type": "stream",
     "text": [
      "-7.875\n"
     ]
    }
   ],
   "source": []
  },
  {
   "cell_type": "code",
   "execution_count": null,
   "id": "b97ddf3c",
   "metadata": {},
   "outputs": [],
   "source": []
  },
  {
   "cell_type": "code",
   "execution_count": null,
   "id": "3d44df90",
   "metadata": {},
   "outputs": [],
   "source": [
    "# 연쇄법칙을 이용하여 f'(x)를 구하시오\n",
    "# h(I) = (1/4)i(x)^2 - 1 이라 하면\n",
    "f'(x) = g'(h(I)) * h'(I) * i'(x)\n",
    "f'(x) = -6*i(x)*h(I)*(h(I)-1))\n",
    "f'(x) = -6(1/4(1-2x)^2  -1)^2 * (1-2x) + 6(1/4(1-2x)^2  -1)(1-2x)\n"
   ]
  },
  {
   "cell_type": "code",
   "execution_count": 269,
   "id": "01e594e0",
   "metadata": {},
   "outputs": [
    {
     "name": "stdout",
     "output_type": "stream",
     "text": [
      "x= 0 f'(x) -7.875\n",
      "x= 2.1 f'(x) 16.773120000000024\n"
     ]
    }
   ],
   "source": [
    "for x in [0,2.1]:\n",
    "    I= 1-2*x\n",
    "    H =(I**2/4)-1\n",
    "    F_미분 = -6*I*H*(H-1)\n",
    "    print('x=',x,\"f'(x)\",F_미분)\n"
   ]
  },
  {
   "cell_type": "markdown",
   "id": "8a945cc9",
   "metadata": {},
   "source": [
    "# 13\n",
    "### 12번 문제의 f(x)에서 난수를 생성하여 초깃값 x0=2.1을 얻었다고 가정하자.\n",
    "### 식 2.58을 연속적으로 적용하여 얻는 점 x1,x2,x3를 구하시오. 이때 학습률 p=0.1을 사용하시오. \n",
    "### 점점 낮은곳을 향해 이동하는지 확인하시오.\n"
   ]
  },
  {
   "cell_type": "code",
   "execution_count": 302,
   "id": "7c9290cf",
   "metadata": {},
   "outputs": [
    {
     "data": {
      "image/png": "[encoded data removed]",
      "text/plain": [
       "<Figure size 432x288 with 1 Axes>"
      ]
     },
     "metadata": {
      "needs_background": "light"
     },
     "output_type": "display_data"
    },
    {
     "name": "stdout",
     "output_type": "stream",
     "text": [
      "특정 값 이상 낮아지지 못하고 진동한다. 학습률이 너무 큰 것으로 추정됨.\n"
     ]
    },
    {
     "data": {
      "image/png": "[encoded data removed]",
      "text/plain": [
       "<Figure size 432x288 with 1 Axes>"
      ]
     },
     "metadata": {
      "needs_background": "light"
     },
     "output_type": "display_data"
    },
    {
     "name": "stdout",
     "output_type": "stream",
     "text": [
      "학습률을 작게 하면 수렴함\n"
     ]
    }
   ],
   "source": [
    "# 식 2.58 :theta = theta - p*g\n",
    "# theta = theta - 0.1*(f'(x))\n",
    "                     \n",
    "def 그래디언트(x):                     \n",
    "    I= 1-2*x\n",
    "    H =(I**2/4)-1\n",
    "    g = -6*I*H*(H-1)\n",
    "    return g\n",
    "                     \n",
    "def theta_cal(theta_pre, p, g):\n",
    "    theta = theta_pre - p*g\n",
    "    return theta\n",
    "X =2.1\n",
    "a=[]\n",
    "b=[]\n",
    "for num in range(30):\n",
    "    a.append(num)\n",
    "    X = theta_cal(X,0.1,그래디언트(X))\n",
    "#     print(X)\n",
    "    b.append(X)\n",
    "# plotting the points \n",
    "plt.plot(a, b, color='gray', linestyle='dashed', linewidth = 3,\n",
    "         marker='o', markerfacecolor='blue', markersize=12)  \n",
    "plt.xlabel('num')\n",
    "# naming the y axis\n",
    "plt.ylabel('theta')\n",
    "  \n",
    "# giving a title to my graph\n",
    "plt.title('theta(p=0.1)')\n",
    "plt.grid()\n",
    "# function to show the plot\n",
    "plt.show()    \n",
    "print('특정 값 이상 낮아지지 못하고 진동한다. 학습률이 너무 큰 것으로 추정됨.')\n",
    "\n",
    "# p=0.01\n",
    "\n",
    "X =2.1\n",
    "a=[]\n",
    "b=[]\n",
    "for num in range(30):\n",
    "    a.append(num)\n",
    "    X = theta_cal(X,0.01,그래디언트(X))\n",
    "#     print(X)\n",
    "    b.append(X)\n",
    "# plotting the points \n",
    "plt.plot(a, b, color='gray', linestyle='dashed', linewidth = 3,\n",
    "         marker='o', markerfacecolor='blue', markersize=12)  \n",
    "plt.xlabel('num')\n",
    "# naming the y axis\n",
    "plt.ylabel('theta')\n",
    "  \n",
    "# giving a title to my graph\n",
    "plt.title('theta(p=0.01)')\n",
    "plt.grid()\n",
    "# function to show the plot\n",
    "plt.show()    \n",
    "print('학습률을 작게 하면 수렴함')"
   ]
  },
  {
   "cell_type": "markdown",
   "id": "afdc22f1",
   "metadata": {},
   "source": [
    "# 14\n",
    "### 다음 함수의 헤시안 행렬을 구하시오.\n",
    "### f(x)  = f(x1,x2,x3) = x1**2 + x1*x2 + (-4 + 4*(x2**2))(x2**2) + x1x2x3 + x3**2"
   ]
  },
  {
   "cell_type": "code",
   "execution_count": 301,
   "id": "8b9053e0",
   "metadata": {},
   "outputs": [],
   "source": [
    "\n",
    "\n",
    "# H = [[x1x1미분 x1x2미분 x1x3미분],\n",
    "# [x2x1미분 x2x2미분 x2x3미분],\n",
    "# [x3x1미분 x3x2미분 x3x3미분]]\n",
    "\n",
    "H = [2, 1+x3, x2],\n",
    "[1+x3, -8+48*x2, x1],\n",
    "[x2, x1, 2]"
   ]
  },
  {
   "cell_type": "markdown",
   "id": "dbf20ea4",
   "metadata": {},
   "source": [
    "# 15. \n",
    "### 다음 함수에 대해 답하시오\n",
    "### f(x1,x2) = 2*(x1**2) + 3*x1*x2 + 2*(x2**2) -4*x1 + 2*x2 - 24\n"
   ]
  },
  {
   "cell_type": "code",
   "execution_count": 317,
   "id": "2fe04982",
   "metadata": {},
   "outputs": [
    {
     "name": "stdout",
     "output_type": "stream",
     "text": [
      "임계점 3.142857142857143 -2.857142857142857\n",
      "고유값=1이므로 최솟값\n",
      "최솟값 -33.14285714285714\n"
     ]
    }
   ],
   "source": [
    "#(1)최소점과 최솟값을 분석적으로 구하시오\n",
    "\n",
    "# 각 변수에 대한 편미분이 모두 0이 되는 값이 임계점\n",
    " \n",
    "# f/dx1 = 4*x1 + 3*x2 - 4 = 0\n",
    "# f/dx2 = 3*x1 + 4*x2 + 2 = 0\n",
    "\n",
    "# 임계값\n",
    "x1 = 22/7\n",
    "x2 = -20/7\n",
    "print('임계점',x1,x2)\n",
    "# 최소 인가?\n",
    "# H = [[4,3],\n",
    "#      [3,4]]\n",
    "\n",
    "# |H - (L * I)| =0\n",
    "\n",
    "# 0 = [[4-L,3], \n",
    "#      [3,4-L]]\n",
    "\n",
    "# (4-L)**2 - 9 = 0\n",
    "# (4-L)=3\n",
    "# L=1\n",
    "\n",
    "# 고윳값 = 1 (양수이므로 최소)\n",
    "print('고유값=1이므로 최솟값')\n",
    "def 최솟값(x1,x2):\n",
    "    val = 2*(x1**2) + 3*x1*x2 + 2*(x2**2) -4*x1 + 2*x2 - 24\n",
    "    return (val)\n",
    "print('최솟값',최솟값(x1,x2))"
   ]
  },
  {
   "cell_type": "code",
   "execution_count": 322,
   "id": "40084d0f",
   "metadata": {},
   "outputs": [
    {
     "data": {
      "image/png": "[encoded data removed]",
      "text/plain": [
       "<Figure size 432x288 with 1 Axes>"
      ]
     },
     "metadata": {
      "needs_background": "light"
     },
     "output_type": "display_data"
    },
    {
     "name": "stdout",
     "output_type": "stream",
     "text": [
      "앞서 구한 최솟값으로 수렴한다.\n"
     ]
    }
   ],
   "source": [
    "#  난수를 생성하여 초깃값 X0=(1,0.9)**T 를 얻었다고 가정하고 식 2.58을 연속으로 적용하여 얻는 점을 구하기. 학습률 0.1사용.\n",
    "# (1)에서 구한 최솟점으로 이동하는가?\n",
    "\n",
    "# 식 2.58 :theta = theta - p*g\n",
    "# theta = theta - 0.1*(f'(x))\n",
    "                     \n",
    "def 그래디언트1(x1):                     \n",
    "    f_dx1 = 4*x1 + 3*x2 - 4\n",
    "    return (f_dx1)\n",
    "def 그래디언트2(x2):              \n",
    "    f_dx2 = 3*x1 + 4*x2 + 2\n",
    "    return (f_dx2)\n",
    "                     \n",
    "def theta_cal(theta_pre, p, g):\n",
    "    theta = theta_pre - p*g\n",
    "    return theta\n",
    "\n",
    "def f(x1,x2):\n",
    "    val = 2*(x1**2) + 3*x1*x2 + 2*(x2**2) -4*x1 + 2*x2 - 24\n",
    "    return val\n",
    "\n",
    "X_ =[1.0,0.9]\n",
    "p=0.1\n",
    "a=[]\n",
    "b=[]\n",
    "\n",
    "for num in range(10):\n",
    "    a.append(num)\n",
    "    X_[0] = theta_cal(X_[0],0.1,그래디언트1(X_[0]))\n",
    "    X_[1] = theta_cal(X_[1],0.1,그래디언트2(X_[1]))\n",
    "    b.append(f(X_[0],X_[1]))\n",
    "# plotting the points \n",
    "plt.plot(a, b, color='gray', linestyle='dashed', linewidth = 3,\n",
    "         marker='o', markerfacecolor='blue', markersize=12)  \n",
    "plt.xlabel('num')\n",
    "# naming the y axis\n",
    "plt.ylabel('theta')\n",
    "  \n",
    "# giving a title to my graph\n",
    "plt.title('Function value move, theta(p=0.1)')\n",
    "plt.grid()\n",
    "plt.axhline(y=-33.14285714285714, color='r', linewidth=1)\n",
    "# function to show the plot\n",
    "plt.show()    \n",
    "print('앞서 구한 최솟값으로 수렴한다.')"
   ]
  },
  {
   "cell_type": "markdown",
   "id": "f748bf5c",
   "metadata": {},
   "source": [
    "# 16. \n",
    "### [예제 2-11]의 테일러 급수에서 delta = 0.2,0.1,0.01,0.001일 때 계산하고 delta가 정확도에 미치는 영향을 설명하시오."
   ]
  },
  {
   "cell_type": "code",
   "execution_count": 324,
   "id": "56397854",
   "metadata": {},
   "outputs": [
    {
     "name": "stdout",
     "output_type": "stream",
     "text": [
      "0.2 0.7\n",
      "0.1 0.6\n",
      "0.01 0.51\n",
      "0.001 0.501\n"
     ]
    }
   ],
   "source": [
    "\n",
    "# delta는 x로부터 delta만큼 떨어진 점. delta가 작을수록 추정값이 정확해짐\n",
    "\n",
    "# f(x+delta) ~ f(x) + f'(x)*delta\n",
    "# f(1.0) = 0.5\n",
    "# f'(1.0) = 1.0   \n",
    "\n",
    "def 테일러급수(delta):\n",
    "    val = 0.5+1*delta\n",
    "    return val\n",
    "\n",
    "for delta in [0.2,0.1,0.01,0.001]:\n",
    "    print(delta, 테일러급수(delta))"
   ]
  },
  {
   "cell_type": "code",
   "execution_count": 327,
   "id": "e6df4db0",
   "metadata": {},
   "outputs": [],
   "source": [
    "# [알고리즘 2-5]를 그 아래 코드로 바꾸어 쓰면 한 번도 뽑히지 않은 샘플이 있을 수 있다. 그래도 문제가 없나?\n",
    "# n개의 샘플이 있고 뽑는 일을 T번 반복했을 때 한 번도 뽑히지 않은 샘플이 k개일 확률을 쓰시오.\n",
    "import math"
   ]
  },
  {
   "cell_type": "code",
   "execution_count": 460,
   "id": "d19b58da",
   "metadata": {},
   "outputs": [],
   "source": [
    "def 안뽑힌게_K개(n,k,T):\n",
    "    \"\"\"\n",
    "    한 번도 뽑히지 않은 샘플이 k개일 확률을 계산하는 함수.\n",
    "\n",
    "    Parameters:\n",
    "        n : 전체 샘플\n",
    "        k : 한번도 뽑히지 않은 샘플\n",
    "        T : 시행횟수\n",
    "    Returns:\n",
    "        float: 한 번도 뽑히지 않은 샘플이 k개일 확률\n",
    "    \"\"\"\n",
    "    if (n>0) and (k>0) and (T>0):\n",
    "        if n>k:\n",
    "            if n-T>k:\n",
    "                안뽑힌게_k개일_확률 = np.nan\n",
    "            elif n-T==k:\n",
    "                안뽑힌게_k개일_확률 = 1\n",
    "            else:\n",
    "                총시행 = n**T\n",
    "                k개가_안뽑힌_시행 = ((n-k)**T)*(math.perm(n,k))\n",
    "                안뽑힌게_k개일_확률 = k개가_안뽑힌_시행/총시행\n",
    "        else:\n",
    "            안뽑힌게_k개일_확률 = np.nan\n",
    "    else:\n",
    "        안뽑힌게_k개일_확률 = np.nan\n",
    "    return (안뽑힌게_k개일_확률)"
   ]
  },
  {
   "cell_type": "code",
   "execution_count": 455,
   "id": "5d774d88",
   "metadata": {},
   "outputs": [
    {
     "data": {
      "text/plain": [
       "0.25"
      ]
     },
     "execution_count": 455,
     "metadata": {},
     "output_type": "execute_result"
    }
   ],
   "source": [
    "n = 2  # 전체 샘플의 개수\n",
    "k = 1   # 한 번도 뽑히지 않은 샘플의 개수\n",
    "T = 3   # 뽑는 일을 반복한 횟수\n",
    "안뽑힌게_K개(n,k,T)"
   ]
  },
  {
   "cell_type": "code",
   "execution_count": 456,
   "id": "2eac0937",
   "metadata": {},
   "outputs": [
    {
     "data": {
      "text/plain": [
       "0.6666666666666666"
      ]
     },
     "execution_count": 456,
     "metadata": {},
     "output_type": "execute_result"
    }
   ],
   "source": [
    "n = 3  # 전체 샘플의 개수\n",
    "k = 2   # 한 번도 뽑히지 않은 샘플의 개수\n",
    "T = 2   # 뽑는 일을 반복한 횟수\n",
    "안뽑힌게_K개(n,k,T)"
   ]
  },
  {
   "cell_type": "code",
   "execution_count": 461,
   "id": "c51d9d38",
   "metadata": {},
   "outputs": [
    {
     "data": {
      "text/plain": [
       "1"
      ]
     },
     "execution_count": 461,
     "metadata": {},
     "output_type": "execute_result"
    }
   ],
   "source": [
    "n = 100 # 전체 샘플의 개수\n",
    "k = 99   # 한 번도 뽑히지 않은 샘플의 개수\n",
    "T = 1   # 뽑는 일을 반복한 횟수\n",
    "안뽑힌게_K개(n,k,T)"
   ]
  }
 ],
 "metadata": {
  "kernelspec": {
   "display_name": "Python 3",
   "language": "python",
   "name": "python3"
  },
  "language_info": {
   "codemirror_mode": {
    "name": "ipython",
    "version": 3
   },
   "file_extension": ".py",
   "mimetype": "text/x-python",
   "name": "python",
   "nbconvert_exporter": "python",
   "pygments_lexer": "ipython3",
   "version": "3.8.5"
  }
 },
 "nbformat": 4,
 "nbformat_minor": 5
}
