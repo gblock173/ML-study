{
 "cells": [
  {
   "cell_type": "markdown",
   "id": "691c65ff",
   "metadata": {},
   "source": [
    "# 8. 그림 4-14에서 나머지 8개 화소 값을 게산하시오."
   ]
  },
  {
   "cell_type": "code",
   "execution_count": 1,
   "id": "db839937",
   "metadata": {},
   "outputs": [],
   "source": [
    "import numpy as np"
   ]
  },
  {
   "cell_type": "code",
   "execution_count": null,
   "id": "7616cd2b",
   "metadata": {},
   "outputs": [],
   "source": []
  },
  {
   "cell_type": "code",
   "execution_count": 46,
   "id": "da1a4a32",
   "metadata": {},
   "outputs": [],
   "source": [
    "R = np.array([[1,1,1],[2,1,3],[0,1,0]])\n",
    "G = np.array([[2,2,2],[1,0,1],[0,0,1]])\n",
    "B = np.array([[0,3,0],[1,0,1],[1,0,0]])\n",
    "image = np.array([R,G,B])\n",
    "\n",
    "c1 = np.array([[0,0,0],[0,0,1],[0,1,0]])\n",
    "c2 = np.array([[0,2,0],[0,2,0],[0,2,0]])\n",
    "c3 = np.array([[1,0,0],[0,2,0],[0,0,1]])\n",
    "kernel = np.array([c1,c2,c3])\n",
    "\n",
    "padding=1 # zero padding을 옆으로 얼마까지\n",
    "strides=1"
   ]
  },
  {
   "cell_type": "code",
   "execution_count": 52,
   "id": "001ef333",
   "metadata": {},
   "outputs": [
    {
     "data": {
      "text/plain": [
       "array([[[1, 1, 1],\n",
       "        [2, 1, 3],\n",
       "        [0, 1, 0]],\n",
       "\n",
       "       [[2, 2, 2],\n",
       "        [1, 0, 1],\n",
       "        [0, 0, 1]],\n",
       "\n",
       "       [[0, 3, 0],\n",
       "        [1, 0, 1],\n",
       "        [1, 0, 0]]])"
      ]
     },
     "execution_count": 52,
     "metadata": {},
     "output_type": "execute_result"
    }
   ],
   "source": [
    "image"
   ]
  },
  {
   "cell_type": "code",
   "execution_count": 47,
   "id": "67a11b33",
   "metadata": {},
   "outputs": [],
   "source": [
    "image_channel, image_height, image_width = image.shape[0], image.shape[1], image.shape[2]\n",
    "kernel_channel, kernel_height, kernel_width = kernel.shape[0], kernel.shape[1], kernel.shape[2]"
   ]
  },
  {
   "cell_type": "code",
   "execution_count": 48,
   "id": "fdbffb04",
   "metadata": {},
   "outputs": [],
   "source": [
    "output_height = int(((image_height - kernel_height + 2 * padding) / strides) + 1)\n",
    "output_width= int(((image_width - kernel_width + 2 * padding) / strides) + 1)\n",
    "output_channel = len(kernel)"
   ]
  },
  {
   "cell_type": "code",
   "execution_count": 49,
   "id": "a1776860",
   "metadata": {},
   "outputs": [
    {
     "data": {
      "text/plain": [
       "array([[[0., 0., 0.],\n",
       "        [0., 0., 0.],\n",
       "        [0., 0., 0.]],\n",
       "\n",
       "       [[0., 0., 0.],\n",
       "        [0., 0., 0.],\n",
       "        [0., 0., 0.]],\n",
       "\n",
       "       [[0., 0., 0.],\n",
       "        [0., 0., 0.],\n",
       "        [0., 0., 0.]]])"
      ]
     },
     "execution_count": 49,
     "metadata": {},
     "output_type": "execute_result"
    }
   ],
   "source": [
    "output = np.zeros((output_channel, output_height, output_width))\n",
    "output"
   ]
  },
  {
   "cell_type": "code",
   "execution_count": 50,
   "id": "422eb404",
   "metadata": {},
   "outputs": [],
   "source": [
    "if padding != 0:\n",
    "    imagePadded = np.zeros((image_channel, image_height + padding * 2, image_width + padding * 2))\n",
    "    imagePadded[:, padding:(-1*padding), padding:(-1*padding)] = image"
   ]
  },
  {
   "cell_type": "code",
   "execution_count": 55,
   "id": "750df995",
   "metadata": {},
   "outputs": [
    {
     "data": {
      "text/plain": [
       "array([[[0., 0., 0., 0., 0.],\n",
       "        [0., 1., 1., 1., 0.],\n",
       "        [0., 2., 1., 3., 0.],\n",
       "        [0., 0., 1., 0., 0.],\n",
       "        [0., 0., 0., 0., 0.]],\n",
       "\n",
       "       [[0., 0., 0., 0., 0.],\n",
       "        [0., 2., 2., 2., 0.],\n",
       "        [0., 1., 0., 1., 0.],\n",
       "        [0., 0., 0., 1., 0.],\n",
       "        [0., 0., 0., 0., 0.]],\n",
       "\n",
       "       [[0., 0., 0., 0., 0.],\n",
       "        [0., 0., 3., 0., 0.],\n",
       "        [0., 1., 0., 1., 0.],\n",
       "        [0., 1., 0., 0., 0.],\n",
       "        [0., 0., 0., 0., 0.]]])"
      ]
     },
     "execution_count": 55,
     "metadata": {},
     "output_type": "execute_result"
    }
   ],
   "source": [
    "imagePadded"
   ]
  },
  {
   "cell_type": "code",
   "execution_count": 56,
   "id": "ab68543c",
   "metadata": {},
   "outputs": [],
   "source": [
    "for z in range(0, output_channel):\n",
    "    output_per_channel = np.zeros((output_height, output_width))\n",
    "\n",
    "    for y in range(0, output_height):\n",
    "        if (y*strides + kernel_height) <= imagePadded.shape[1]:\n",
    "\n",
    "            for x in range(0, output_width):                \n",
    "                if (x*strides + kernel_width) <= imagePadded.shape[2]:\n",
    "                    output_per_channel[y][x] = np.sum(imagePadded[:,\n",
    "                                                           y*strides : y*strides + kernel_height,\n",
    "                                                           x*strides : x*strides + kernel_width] * kernel).astype(np.float32)\n",
    "    output[z, :, :] = output_per_channel\n"
   ]
  },
  {
   "cell_type": "code",
   "execution_count": 102,
   "id": "45021c24",
   "metadata": {},
   "outputs": [
    {
     "data": {
      "text/plain": [
       "array([[ 9., 13.,  9.],\n",
       "       [ 9.,  8., 13.],\n",
       "       [ 5.,  1.,  4.]])"
      ]
     },
     "execution_count": 102,
     "metadata": {},
     "output_type": "execute_result"
    }
   ],
   "source": [
    "output[0]"
   ]
  },
  {
   "cell_type": "markdown",
   "id": "786b1b19",
   "metadata": {},
   "source": [
    "# 9 그림 4-8(B)에서 커널 = np.array([[-1,-1,-1],[0,0,0],[1,1,1]])을 적용한 결과를 쓰시오 이때 덧대기를 0으로 하고 바이어스를 0.5 사용하시오."
   ]
  },
  {
   "cell_type": "code",
   "execution_count": 127,
   "id": "d3b64e51",
   "metadata": {},
   "outputs": [
    {
     "name": "stdout",
     "output_type": "stream",
     "text": [
      "[[23]]\n",
      "[[21.5]]\n"
     ]
    }
   ],
   "source": [
    "Kernel = np.array([[-1,0,1],[-1,0,1],[-1,0,1]])\n",
    "matrix= np.array([[2,2,9],[2,2,9],[2,2,9]])\n",
    "\n",
    "\n",
    "def conv_2d(inputmat,kernel,bias):\n",
    "    x = matrix.shape[0]-kernel.shape[0]+1\n",
    "    y = matrix.shape[0]-kernel.shape[0]+1\n",
    "    res=[]\n",
    "    for x1 in range(x):\n",
    "        for y1 in range(y):\n",
    "            res1 = matrix[x1:x1+kernel.shape[0],y1:y1+kernel.shape[1]]*kernel\n",
    "            res.append(np.sum(res1)+bias)\n",
    "    result = np.array(res).reshape(x,y)\n",
    "    return result\n",
    "\n",
    "bias = 2\n",
    "print(conv_2d(matrix,Kernel,bias))\n",
    "bias = 0.5\n",
    "print(conv_2d(matrix,Kernel,bias))"
   ]
  },
  {
   "cell_type": "code",
   "execution_count": 137,
   "id": "6dfd27f6",
   "metadata": {},
   "outputs": [
    {
     "data": {
      "text/plain": [
       "array([[2, 2, 9],\n",
       "       [2, 2, 9],\n",
       "       [2, 2, 9]])"
      ]
     },
     "execution_count": 137,
     "metadata": {},
     "output_type": "execute_result"
    }
   ],
   "source": [
    "matrix"
   ]
  },
  {
   "cell_type": "code",
   "execution_count": 139,
   "id": "c3340c9d",
   "metadata": {},
   "outputs": [
    {
     "name": "stdout",
     "output_type": "stream",
     "text": [
      "[[23.]]\n",
      "[[21.5]]\n",
      "[[21.5]]\n"
     ]
    }
   ],
   "source": [
    "import numpy as np\n",
    "\n",
    "Kernel = np.array([[-1, 0, 1], [-1, 0, 1], [-1, 0, 1]])\n",
    "matrix = np.array([[2, 2, 9], [2, 2, 9], [2, 2, 9]])\n",
    "\n",
    "def conv_2d(inputmat, kernel, bias, stride):\n",
    "    kernel_height, kernel_width = kernel.shape\n",
    "    input_height, input_width = inputmat.shape\n",
    "    x = ((input_height - kernel_height) // stride) + 1\n",
    "    y = ((input_width - kernel_width) // stride) + 1\n",
    "    res = np.zeros((x, y))\n",
    "\n",
    "    for x1 in range(0, x):\n",
    "        for y1 in range(0, y):\n",
    "            input_slice = inputmat[x1 * stride: x1 * stride + kernel_height, y1 * stride: y1 * stride + kernel_width]\n",
    "            res[x1, y1] = np.sum(input_slice * kernel) + bias\n",
    "\n",
    "    return res\n",
    "\n",
    "bias = 2\n",
    "print(conv_2d(matrix, Kernel, bias, 1))\n",
    "\n",
    "bias = 0.5\n",
    "print(conv_2d(matrix,Kernel,bias,1))\n",
    "\n",
    "bias = 0.5\n",
    "print(conv_2d(matrix,Kernel,bias,2))\n"
   ]
  }
 ],
 "metadata": {
  "kernelspec": {
   "display_name": "Python 3",
   "language": "python",
   "name": "python3"
  },
  "language_info": {
   "codemirror_mode": {
    "name": "ipython",
    "version": 3
   },
   "file_extension": ".py",
   "mimetype": "text/x-python",
   "name": "python",
   "nbconvert_exporter": "python",
   "pygments_lexer": "ipython3",
   "version": "3.8.5"
  }
 },
 "nbformat": 4,
 "nbformat_minor": 5
}
